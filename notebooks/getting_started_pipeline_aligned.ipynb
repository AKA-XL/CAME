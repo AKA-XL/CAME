{
 "cells": [
  {
   "cell_type": "markdown",
   "id": "d6495895",
   "metadata": {},
   "source": [
    "# Getting started (for datasets with aligned features)\n",
    "\n"
   ]
  },
  {
   "cell_type": "code",
   "execution_count": 1,
   "id": "6935113b",
   "metadata": {},
   "outputs": [],
   "source": [
    "import os\n",
    "import sys\n",
    "from pathlib import Path\n",
    "\n",
    "import numpy as np\n",
    "import pandas as pd\n",
    "from matplotlib import pyplot as plt\n",
    "import seaborn as sns\n",
    "\n",
    "import scanpy as sc\n",
    "from scipy import sparse\n",
    "\n",
    "import networkx as nx\n",
    "import torch"
   ]
  },
  {
   "cell_type": "code",
   "execution_count": 2,
   "id": "c20e3fe2",
   "metadata": {},
   "outputs": [
    {
     "name": "stderr",
     "output_type": "stream",
     "text": [
      "Using backend: pytorch\n"
     ]
    }
   ],
   "source": [
    "ROOT = Path('../')\n",
    "sys.path.append(str(ROOT))\n",
    "import came\n",
    "from came import pipeline, pp, pl"
   ]
  },
  {
   "cell_type": "markdown",
   "id": "7396c5e5",
   "metadata": {},
   "source": [
    "## 0 Load datasets\n",
    "\n",
    "Load the example datasets:"
   ]
  },
  {
   "cell_type": "code",
   "execution_count": 3,
   "id": "00d1ffd3",
   "metadata": {},
   "outputs": [
    {
     "name": "stdout",
     "output_type": "stream",
     "text": [
      "dict_keys(['adatas', 'varmap', 'varmap_1v1', 'dataset_names', 'key_class'])\n",
      "a new directory made:\n",
      "\t../_temp/('Baron_human', 'Baron_mouse')-(10-07 22.38.29)/figs\n"
     ]
    }
   ],
   "source": [
    "from came.utils import load_example_data\n",
    "\n",
    "example_data_dict = load_example_data()\n",
    "print(example_data_dict.keys())\n",
    "\n",
    "dsnames = ('Baron_human', 'Baron_mouse')\n",
    "\n",
    "adatas = example_data_dict['adatas']\n",
    "dsnames = example_data_dict['dataset_names']\n",
    "df_varmap = example_data_dict['varmap']\n",
    "df_varmap_1v1 = example_data_dict['varmap_1v1']\n",
    "\n",
    "adata_raw1, adata_raw2 = adatas\n",
    "key_class1 = key_class2 = example_data_dict['key_class']\n",
    "\n",
    "# setting directory for results\n",
    "time_tag = came.make_nowtime_tag()\n",
    "resdir = ROOT /'_temp' / f'{dsnames}-{time_tag}'\n",
    "figdir = resdir / 'figs'\n",
    "came.check_dirs(figdir)  # check and make the directory"
   ]
  },
  {
   "cell_type": "markdown",
   "id": "b134821e",
   "metadata": {},
   "source": [
    "To load your own datasets, see the code example below:\n",
    "\n",
    "```python\n",
    "# ========= customized paths ==========\n",
    "\n",
    "dsnames = ('Baron_human', 'Baron_mouse')  # the dataset names, set by user\n",
    "dsn1, dsn2 = dsnames\n",
    "\n",
    "path_rawdata1 = ROOT / 'came/sample_data/raw-Baron_human.h5ad'\n",
    "path_rawdata2 = ROOT / 'came/sample_data/raw-Baron_mouse.h5ad'\n",
    "```\n",
    "Path to homologous gene mappings, a dataframe with 2-columns, where \n",
    "the first column stores the reference genes and the second \n",
    "column stores the query ones.\n",
    "\n",
    "Note that `path_varmap_1v1` is optional (can be `None`). If not provided, the 1-to-1 homologous mappings will be inferred from the whole mappings.\n",
    "\n",
    "```python\n",
    "path_varmap = ROOT / f'came/sample_data/gene_matches_human2mouse.csv'\n",
    "path_varmap_1v1 = ROOT / f'came/sample_data/gene_matches_1v1_human2mouse.csv'\n",
    "\n",
    "```\n",
    "\n",
    "Load scRNA-seq datasets.\n",
    "\n",
    "```python\n",
    "# ========= load data =========\n",
    "df_varmap_1v1 = pd.read_csv(path_varmap_1v1) if path_varmap_1v1 else None\n",
    "df_varmap = pd.read_csv(path_varmap)\n",
    "\n",
    "adata_raw1 = sc.read_h5ad(path_rawdata1)\n",
    "adata_raw2 = sc.read_h5ad(path_rawdata2)\n",
    "adatas = [adata_raw1, adata_raw2]\n",
    "```\n",
    "\n",
    "Sepcifiy the column names of the cell-type labels, where `key_class1` is for reference data, and `key_class2` is for query data. If there aren't any cell-type or clustering labels for the query cells, you can set `key_class=None`.\n",
    "\n",
    "```python\n",
    "key_class1 = 'cell_ontology_class'  # set by user\n",
    "key_class2 = 'cell_ontology_class'  # set by user\n",
    "```\n",
    "\n",
    "Setting directory for results\n",
    "\n",
    "```python\n",
    "time_tag = came.make_nowtime_tag()\n",
    "resdir = ROOT /'_temp' / f'{dsnames}-{time_tag}'  # set by user\n",
    "figdir = resdir / 'figs'\n",
    "came.check_dirs(figdir)  # check and make the directory\n",
    "```"
   ]
  },
  {
   "cell_type": "markdown",
   "id": "14ef61ed",
   "metadata": {},
   "source": [
    "Filtering genes (a preprocessing step, optional)\n",
    "\n",
    "```python\n",
    "sc.pp.filter_genes(adata_raw1, min_cells=3)\n",
    "sc.pp.filter_genes(adata_raw2, min_cells=3)\n",
    "```"
   ]
  },
  {
   "cell_type": "markdown",
   "id": "6b9aa256",
   "metadata": {},
   "source": [
    "Inspect classes:"
   ]
  },
  {
   "cell_type": "code",
   "execution_count": 4,
   "id": "9242f5e1",
   "metadata": {},
   "outputs": [
    {
     "data": {
      "text/html": [
       "<div>\n",
       "<style scoped>\n",
       "    .dataframe tbody tr th:only-of-type {\n",
       "        vertical-align: middle;\n",
       "    }\n",
       "\n",
       "    .dataframe tbody tr th {\n",
       "        vertical-align: top;\n",
       "    }\n",
       "\n",
       "    .dataframe thead th {\n",
       "        text-align: right;\n",
       "    }\n",
       "</style>\n",
       "<table border=\"1\" class=\"dataframe\">\n",
       "  <thead>\n",
       "    <tr style=\"text-align: right;\">\n",
       "      <th></th>\n",
       "      <th>cell_ontology_class</th>\n",
       "      <th>cell_ontology_class</th>\n",
       "    </tr>\n",
       "  </thead>\n",
       "  <tbody>\n",
       "    <tr>\n",
       "      <th>B cell</th>\n",
       "      <td>NaN</td>\n",
       "      <td>10.0</td>\n",
       "    </tr>\n",
       "    <tr>\n",
       "      <th>Schwann cell</th>\n",
       "      <td>2.0</td>\n",
       "      <td>6.0</td>\n",
       "    </tr>\n",
       "    <tr>\n",
       "      <th>T cell</th>\n",
       "      <td>4.0</td>\n",
       "      <td>7.0</td>\n",
       "    </tr>\n",
       "    <tr>\n",
       "      <th>endothelial cell</th>\n",
       "      <td>62.0</td>\n",
       "      <td>139.0</td>\n",
       "    </tr>\n",
       "    <tr>\n",
       "      <th>leukocyte</th>\n",
       "      <td>NaN</td>\n",
       "      <td>8.0</td>\n",
       "    </tr>\n",
       "    <tr>\n",
       "      <th>macrophage</th>\n",
       "      <td>18.0</td>\n",
       "      <td>36.0</td>\n",
       "    </tr>\n",
       "    <tr>\n",
       "      <th>mast cell</th>\n",
       "      <td>8.0</td>\n",
       "      <td>NaN</td>\n",
       "    </tr>\n",
       "    <tr>\n",
       "      <th>pancreatic A cell</th>\n",
       "      <td>577.0</td>\n",
       "      <td>191.0</td>\n",
       "    </tr>\n",
       "    <tr>\n",
       "      <th>pancreatic D cell</th>\n",
       "      <td>144.0</td>\n",
       "      <td>218.0</td>\n",
       "    </tr>\n",
       "    <tr>\n",
       "      <th>pancreatic PP cell</th>\n",
       "      <td>67.0</td>\n",
       "      <td>41.0</td>\n",
       "    </tr>\n",
       "    <tr>\n",
       "      <th>pancreatic acinar cell</th>\n",
       "      <td>231.0</td>\n",
       "      <td>NaN</td>\n",
       "    </tr>\n",
       "    <tr>\n",
       "      <th>pancreatic ductal cell</th>\n",
       "      <td>290.0</td>\n",
       "      <td>275.0</td>\n",
       "    </tr>\n",
       "    <tr>\n",
       "      <th>pancreatic epsilon cell</th>\n",
       "      <td>3.0</td>\n",
       "      <td>NaN</td>\n",
       "    </tr>\n",
       "    <tr>\n",
       "      <th>pancreatic stellate cell</th>\n",
       "      <td>113.0</td>\n",
       "      <td>61.0</td>\n",
       "    </tr>\n",
       "    <tr>\n",
       "      <th>type B pancreatic cell</th>\n",
       "      <td>623.0</td>\n",
       "      <td>894.0</td>\n",
       "    </tr>\n",
       "  </tbody>\n",
       "</table>\n",
       "</div>"
      ],
      "text/plain": [
       "                          cell_ontology_class  cell_ontology_class\n",
       "B cell                                    NaN                 10.0\n",
       "Schwann cell                              2.0                  6.0\n",
       "T cell                                    4.0                  7.0\n",
       "endothelial cell                         62.0                139.0\n",
       "leukocyte                                 NaN                  8.0\n",
       "macrophage                               18.0                 36.0\n",
       "mast cell                                 8.0                  NaN\n",
       "pancreatic A cell                       577.0                191.0\n",
       "pancreatic D cell                       144.0                218.0\n",
       "pancreatic PP cell                       67.0                 41.0\n",
       "pancreatic acinar cell                  231.0                  NaN\n",
       "pancreatic ductal cell                  290.0                275.0\n",
       "pancreatic epsilon cell                   3.0                  NaN\n",
       "pancreatic stellate cell                113.0                 61.0\n",
       "type B pancreatic cell                  623.0                894.0"
      ]
     },
     "execution_count": 4,
     "metadata": {},
     "output_type": "execute_result"
    }
   ],
   "source": [
    "# Inspect classes\n",
    "if key_class2 is not None:\n",
    "    group_counts_ori = pd.concat([\n",
    "        pd.value_counts(adata_raw1.obs[key_class1]),\n",
    "        pd.value_counts(adata_raw2.obs[key_class2]),\n",
    "    ], axis=1)\n",
    "else:\n",
    "    group_counts_ori = None\n",
    "    \n",
    "group_counts_ori"
   ]
  },
  {
   "cell_type": "markdown",
   "id": "f5b6bb83",
   "metadata": {},
   "source": [
    "## 1 The default pipeline of CAME\n",
    "\n",
    "Parameter setting:"
   ]
  },
  {
   "cell_type": "code",
   "execution_count": 5,
   "id": "42023df1",
   "metadata": {},
   "outputs": [],
   "source": [
    "# the numer of training epochs (recommended setting is 200-400)\n",
    "n_epochs = 300\n",
    "\n",
    "# the training batch size (when GPU memory is limited, recommanded is 8192 or more)\n",
    "batch_size = None  \n",
    "\n",
    "# the number of epochs to skip for checkpoint backup\n",
    "n_pass = 100\n",
    "\n",
    "# whether to use the single-cell network\n",
    "use_scnets = True\n"
   ]
  },
  {
   "cell_type": "code",
   "execution_count": null,
   "id": "c625e599",
   "metadata": {},
   "outputs": [
    {
     "name": "stdout",
     "output_type": "stream",
     "text": [
      "[leiden] Time used:  0.2248 s\n",
      "650 genes before taking unique\n",
      "taking total of 523 unique differential expressed genes\n",
      "400 genes before taking unique\n",
      "taking total of 345 unique differential expressed genes\n",
      "already exists:\n",
      "\t../_temp/('Baron_human', 'Baron_mouse')-(10-07 22.38.29)/figs\n",
      "already exists:\n",
      "\t../_temp/('Baron_human', 'Baron_mouse')-(10-07 22.38.29)\n",
      "[*] Setting dataset names:\n",
      "\t0-->Baron_human\n",
      "\t1-->Baron_mouse\n",
      "[*] Setting aligned features for observation nodes (self._features)\n",
      "[*] Setting un-aligned features (`self._ov_adjs`) for making links connecting observation and variable nodes\n",
      "[*] Setting adjacent matrix connecting variables from these 2 datasets (`self._vv_adj`)\n",
      "Index(['cell_ontology_class', 'cell_ontology_id', 'cell_type1', 'dataset_name',\n",
      "       'donor', 'library', 'organ', 'organism', 'platform'],\n",
      "      dtype='object')\n",
      "Index(['cell_ontology_class', 'cell_ontology_id', 'cell_type1', 'dataset_name',\n",
      "       'donor', 'library', 'organ', 'organism', 'platform', 'clust_lbs'],\n",
      "      dtype='object')\n",
      "-------------------- Summary of the DGL-Heterograph --------------------\n",
      "Graph(num_nodes={'cell': 4028, 'gene': 6558},\n",
      "      num_edges={('cell', 'express', 'gene'): 1513238, ('cell', 'self_loop_cell', 'cell'): 4028, ('cell', 'similar_to', 'cell'): 25908, ('gene', 'expressed_by', 'cell'): 1513238, ('gene', 'homolog_with', 'gene'): 12466},\n",
      "      metagraph=[('cell', 'gene', 'express'), ('cell', 'cell', 'self_loop_cell'), ('cell', 'cell', 'similar_to'), ('gene', 'cell', 'expressed_by'), ('gene', 'gene', 'homolog_with')])\n",
      "second-order connection: False\n",
      "self-loops for observation-nodes: True\n",
      "self-loops for variable-nodes: True\n",
      "type B pancreatic cell      1517\n",
      "pancreatic ductal cell       565\n",
      "pancreatic A cell            768\n",
      "pancreatic acinar cell       231\n",
      "pancreatic PP cell           108\n",
      "pancreatic D cell            362\n",
      "pancreatic stellate cell     174\n",
      "endothelial cell             201\n",
      "macrophage                    54\n",
      "mast cell                      8\n",
      "Schwann cell                   8\n",
      "T cell                        11\n",
      "pancreatic epsilon cell        3\n",
      "unknown                       18\n",
      "dtype: int64\n",
      "a new directory made:\n",
      "\t../_temp/('Baron_human', 'Baron_mouse')-(10-07 22.38.29)/_models\n",
      "main directory: ../_temp/('Baron_human', 'Baron_mouse')-(10-07 22.38.29)\n",
      "model directory: ../_temp/('Baron_human', 'Baron_mouse')-(10-07 22.38.29)/_models\n",
      "============== start training (device='cpu') ===============\n",
      "Epoch 0000 | Train Acc: 0.0453 | Test: 0.0318 (max=0.0318) | AMI=0.0211 | Time: 5.0717\n",
      "Epoch 0005 | Train Acc: 0.2722 | Test: 0.2736 (max=0.4862) | AMI=0.0725 | Time: 4.9894\n",
      "Epoch 0010 | Train Acc: 0.4370 | Test: 0.3929 (max=0.4862) | AMI=0.3544 | Time: 4.8696\n",
      "Epoch 0015 | Train Acc: 0.4580 | Test: 0.6230 (max=0.6230) | AMI=0.4423 | Time: 4.8541\n",
      "Epoch 0020 | Train Acc: 0.7390 | Test: 0.7052 (max=0.7052) | AMI=0.5294 | Time: 4.8490\n",
      "Epoch 0025 | Train Acc: 0.8361 | Test: 0.7508 (max=0.7508) | AMI=0.5789 | Time: 4.8330\n",
      "Epoch 0030 | Train Acc: 0.8655 | Test: 0.7317 (max=0.7508) | AMI=0.5689 | Time: 4.8506\n"
     ]
    }
   ],
   "source": [
    "came_inputs, (adata1, adata2) = pipeline.preprocess_unaligned(\n",
    "    adatas,\n",
    "    key_class=key_class1,\n",
    "    use_scnets=use_scnets,\n",
    ")\n",
    "\n",
    "outputs = pipeline.main_for_unaligned(\n",
    "    **came_inputs,\n",
    "    df_varmap=df_varmap,\n",
    "    df_varmap_1v1=df_varmap_1v1,\n",
    "    dataset_names=dsnames,\n",
    "    key_class1=key_class1,\n",
    "    key_class2=key_class2,\n",
    "    do_normalize=True,\n",
    "    n_epochs=n_epochs,\n",
    "    resdir=resdir,\n",
    "    n_pass=n_pass,\n",
    "    batch_size=batch_size,\n",
    "    plot_results=True,\n",
    ")\n",
    "dpair = outputs['dpair']\n",
    "trainer = outputs['trainer']\n",
    "h_dict = outputs['h_dict']\n",
    "out_cell = outputs['out_cell']\n",
    "predictor = outputs['predictor']\n",
    "\n",
    "\n",
    "obs_ids1, obs_ids2 = dpair.obs_ids1, dpair.obs_ids2\n",
    "obs = dpair.obs\n",
    "classes = predictor.classes\n"
   ]
  },
  {
   "cell_type": "markdown",
   "id": "7bf81d22",
   "metadata": {},
   "source": [
    "### Laod other checkpont (optional)\n",
    "\n",
    "You can load other model checkpoint if the default model is not satisfying.\n",
    "\n",
    "For example, load the last checkpoint and compute the results of it:\n",
    "\n",
    "```python\n",
    "out_cell, df_probs, h_dict, predictor = pipeline.gather_came_results(\n",
    "    dpair,\n",
    "    trainer,\n",
    "    classes=classes,\n",
    "    keys=(key_class1, key_class2),\n",
    "    keys_compare=(key_class1, key_class2),\n",
    "    resdir=resdir,\n",
    "    checkpoint='last',\n",
    "    batch_size=None,\n",
    ")\n",
    "```\n",
    "\n",
    "You can get all saved checkpoint numbers by:"
   ]
  },
  {
   "cell_type": "code",
   "execution_count": null,
   "id": "0e00e166",
   "metadata": {},
   "outputs": [],
   "source": [
    "came.get_checkpoint_list(resdir / '_models')"
   ]
  },
  {
   "cell_type": "markdown",
   "id": "c3d002d7",
   "metadata": {},
   "source": [
    "### Plot the contingency matrix for query dataset"
   ]
  },
  {
   "cell_type": "code",
   "execution_count": null,
   "id": "0d3c6693",
   "metadata": {},
   "outputs": [],
   "source": [
    "# contingency matrix for query dataset\n",
    "y_true = obs['celltype'][obs_ids2].values\n",
    "y_pred = obs['predicted'][obs_ids2].values\n",
    "\n",
    "ax, contmat = pl.plot_contingency_mat(\n",
    "    y_true, y_pred, norm_axis=1, \n",
    "    order_rows=False, order_cols=False,\n",
    ")\n",
    "pl._save_with_adjust(ax.figure, figdir / 'contingency_mat.png')\n",
    "ax.figure"
   ]
  },
  {
   "cell_type": "markdown",
   "id": "bf86aa57",
   "metadata": {},
   "source": [
    "### Plot heatmap of predicted probabilities"
   ]
  },
  {
   "cell_type": "code",
   "execution_count": null,
   "id": "ef5fe931",
   "metadata": {},
   "outputs": [],
   "source": [
    "name_label = 'celltype'\n",
    "cols_anno = ['celltype', 'predicted'][:]\n",
    "df_probs = obs[list(classes)]\n",
    "\n",
    "\n",
    "gs = pl.wrapper_heatmap_scores(\n",
    "        df_probs.iloc[obs_ids2], obs.iloc[obs_ids2], ignore_index=True,\n",
    "        col_label='celltype', col_pred='predicted',\n",
    "        n_subsample=50,\n",
    "        cmap_heat='magma_r',  # if prob_func == 'softmax' else 'RdBu_r'\n",
    "        fp=figdir / f'heatmap_probas.pdf'\n",
    "    )\n",
    "\n",
    "gs.figure"
   ]
  },
  {
   "cell_type": "markdown",
   "id": "82913080",
   "metadata": {},
   "source": [
    "## 2 Further analysis\n",
    "\n",
    "By default, CAME will use the **last** layer of hidden states, as the embeddings, to produce cell- and gene-UMAP. \n",
    "\n",
    "> You can also load ALL of the model hidden states that have been seved during CAME's default pipeline:\n",
    "\n",
    "```py\n",
    "hidden_list = came.load_hidden_states(resdir / 'hidden_list.h5')\n",
    "hidden_list  # a list of dicts\n",
    "h_dict = hidden_list[-1]. # the last layer of hidden states\n",
    "```\n",
    "\n",
    "Make AnnData objects, storing only the CAME-embeddings and annotations, for cells and genes."
   ]
  },
  {
   "cell_type": "code",
   "execution_count": null,
   "id": "8f9aba92",
   "metadata": {},
   "outputs": [],
   "source": [
    "adt = pp.make_adata(h_dict['cell'], obs=dpair.obs, assparse=False, ignore_index=True)\n",
    "gadt = pp.make_adata(h_dict['gene'], obs=dpair.var.iloc[:, :2], assparse=False, ignore_index=True)\n",
    "\n",
    "# adt.write(resdir / 'adt_hidden_cell.h5ad')\n",
    "# gadt.write_h5ad(resdir / 'adt_hidden_gene.h5ad')"
   ]
  },
  {
   "cell_type": "markdown",
   "id": "f1cf40ee",
   "metadata": {},
   "source": [
    "### 2.1 UMAP of cell embeddings"
   ]
  },
  {
   "cell_type": "code",
   "execution_count": null,
   "id": "bf88eb7b",
   "metadata": {},
   "outputs": [],
   "source": [
    "sc.set_figure_params(dpi_save=200)\n",
    "\n",
    "sc.pp.neighbors(adt, n_neighbors=15, metric='cosine', use_rep='X')\n",
    "sc.tl.umap(adt)\n",
    "# sc.pl.umap(adt, color=['dataset', 'celltype'], ncols=1)\n",
    "\n",
    "ftype = ['.svg', ''][1]\n",
    "sc.pl.umap(adt, color='dataset', save=f'-dataset{ftype}')\n",
    "sc.pl.umap(adt, color='celltype', save=f'-ctype{ftype}')"
   ]
  },
  {
   "cell_type": "markdown",
   "id": "e2ed0d50",
   "metadata": {},
   "source": [
    "Store UMAP coordinates:"
   ]
  },
  {
   "cell_type": "code",
   "execution_count": null,
   "id": "56f522e1",
   "metadata": {},
   "outputs": [],
   "source": [
    "obs_umap = adt.obsm['X_umap']\n",
    "obs['UMAP1'] = obs_umap[:, 0]\n",
    "obs['UMAP2'] = obs_umap[:, 1]\n",
    "obs.to_csv(resdir / 'obs.csv')\n",
    "adt.write(resdir / 'adt_hidden_cell.h5ad')"
   ]
  },
  {
   "cell_type": "markdown",
   "id": "6f3b85ad",
   "metadata": {},
   "source": [
    "Setting UMAP to the original adata"
   ]
  },
  {
   "cell_type": "code",
   "execution_count": null,
   "id": "051c2c98",
   "metadata": {},
   "outputs": [],
   "source": [
    "adata1.obsm['X_umap'] = obs_umap[obs_ids1]\n",
    "adata2.obsm['X_umap'] = obs_umap[obs_ids2]"
   ]
  },
  {
   "cell_type": "markdown",
   "id": "0ae3742b",
   "metadata": {},
   "source": [
    "### 2.2 UMAP of genes"
   ]
  },
  {
   "cell_type": "code",
   "execution_count": null,
   "id": "af2da0ea",
   "metadata": {},
   "outputs": [],
   "source": [
    "sc.pp.neighbors(gadt, n_neighbors=15, metric='cosine', use_rep='X')\n",
    "\n",
    "# gadt = pp.make_adata(h_dict['gene'], obs=dpair.var.iloc[:, :2], assparse=False, ignore_index=True)\n",
    "sc.tl.umap(gadt)\n",
    "sc.pl.umap(gadt, color='dataset', )"
   ]
  },
  {
   "cell_type": "code",
   "execution_count": null,
   "id": "7bef5676",
   "metadata": {},
   "outputs": [],
   "source": [
    "# joint gene module extraction \n",
    "sc.tl.leiden(gadt, resolution=.8, key_added='module')\n",
    "sc.pl.umap(gadt, color='module', ncols=1, palette='tab20b')\n",
    "\n",
    "# backup results is needed\n",
    "# gadt.write(resdir / 'adt_hidden_gene.h5ad')"
   ]
  },
  {
   "cell_type": "markdown",
   "id": "5eff76c2",
   "metadata": {},
   "source": [
    "Visualize gene UMAPs:"
   ]
  },
  {
   "cell_type": "code",
   "execution_count": null,
   "id": "0473c3df",
   "metadata": {},
   "outputs": [],
   "source": [
    "# gadt.obs_names = gadt.obs_names.astype(str)\n",
    "gadt1, gadt2 = pp.bisplit_adata(gadt, 'dataset', dsnames[0], reset_index_by='name')\n",
    "\n",
    "color_by = 'module'\n",
    "palette = 'tab20b'\n",
    "sc.pl.umap(gadt1, color=color_by, s=10, edges=True, edges_width=0.05,\n",
    "           palette=palette,\n",
    "           save=f'_{color_by}-{dsnames[0]}')\n",
    "sc.pl.umap(gadt2, color=color_by, s=10, edges=True, edges_width=0.05,\n",
    "           palette=palette,\n",
    "           save=f'_{color_by}-{dsnames[0]}')"
   ]
  },
  {
   "cell_type": "markdown",
   "id": "74062a09",
   "metadata": {},
   "source": [
    "Compute the link-weights (embedding similarity) between homologous gene pairs:"
   ]
  },
  {
   "cell_type": "code",
   "execution_count": null,
   "id": "6996ec2d",
   "metadata": {},
   "outputs": [],
   "source": [
    "df_var_links = came.weight_linked_vars(\n",
    "    gadt.X, dpair._vv_adj, names=dpair.get_vnode_names(),\n",
    "    matric='cosine', index_names=dsnames,\n",
    ")"
   ]
  },
  {
   "cell_type": "markdown",
   "id": "6e0041b0",
   "metadata": {},
   "source": [
    "### 2.3 Gene-expression-profiles (for each cell type) on gene UMAP\n",
    "\n",
    "Compute average expressions for each cell type."
   ]
  },
  {
   "cell_type": "code",
   "execution_count": null,
   "id": "0843cddb",
   "metadata": {},
   "outputs": [],
   "source": [
    "# averaged expressions\n",
    "avg_expr1 = pp.group_mean_adata(\n",
    "    adatas[0], groupby=key_class1,\n",
    "    features=dpair.vnode_names1, use_raw=True)\n",
    "avg_expr2 = pp.group_mean_adata(\n",
    "    adatas[1], groupby=key_class2,\n",
    "    features=dpair.vnode_names2, use_raw=True)\n",
    "\n",
    "# z-scores across cell types\n",
    "avg_expr_add1, avg_expr_add2 = list(map(\n",
    "    lambda x: pp.zscore(x.T).T, (avg_expr1, avg_expr2)\n",
    "))\n",
    "\n",
    "# add annos\n",
    "pp.add_obs_annos(gadt1, avg_expr_add1, ignore_index=True)\n",
    "pp.add_obs_annos(gadt2, avg_expr_add2, ignore_index=True)\n",
    "\n",
    "gadt1.write(resdir / 'adt_hidden_gene1.h5ad') \n",
    "gadt2.write(resdir / 'adt_hidden_gene2.h5ad')"
   ]
  },
  {
   "cell_type": "markdown",
   "id": "83d28a1b",
   "metadata": {},
   "source": [
    "plot cell type gene-profiles (plot all the cell types) on UMAP"
   ]
  },
  {
   "cell_type": "code",
   "execution_count": null,
   "id": "897026d8",
   "metadata": {},
   "outputs": [],
   "source": [
    "sc.set_figure_params(fontsize=14)\n",
    "\n",
    "ctypes1 = avg_expr1.columns.tolist()\n",
    "ctypes2 = avg_expr2.columns.tolist()\n",
    "cmap_expr = 'RdYlBu_r'\n",
    "vmax = None\n",
    "vmin = - 1.5\n",
    "plkwds = dict(color_map=cmap_expr, vmax=vmax, vmin=vmin, ncols=5, )\n",
    "\n",
    "sc.pl.umap(gadt1, color=ctypes1,\n",
    "           # edges=True, size=50,\n",
    "           save=f'_exprAvgs-{dsn1}-all.png', **plkwds)\n",
    "sc.pl.umap(gadt2, color=ctypes2,\n",
    "           # edges=True, size=50,\n",
    "           save=f'_exprAvgs-{dsn2}-all.png', **plkwds)\n"
   ]
  },
  {
   "cell_type": "markdown",
   "id": "e5484060",
   "metadata": {},
   "source": [
    "### 2.4 Abstracted graph"
   ]
  },
  {
   "cell_type": "code",
   "execution_count": null,
   "id": "f8fca7d6",
   "metadata": {},
   "outputs": [],
   "source": [
    "norm_ov = ['max', 'zs', None][1]\n",
    "cut_ov = 0.  \n",
    "\n",
    "groupby_var = 'module'\n",
    "obs_labels1, obs_labels2 = adt.obs['celltype'][dpair.obs_ids1], \\\n",
    "                           adt.obs['celltype'][dpair.obs_ids2]\n",
    "var_labels1, var_labels2 = gadt1.obs[groupby_var], gadt2.obs[groupby_var]\n",
    "\n",
    "sp1, sp2 = 'human', 'mouse'\n",
    "g = came.make_abstracted_graph(\n",
    "    obs_labels1, obs_labels2,\n",
    "    var_labels1, var_labels2,\n",
    "    avg_expr1, avg_expr2,\n",
    "    df_var_links,\n",
    "    tags_obs=(f'{sp1} ', f'{sp2} '),\n",
    "    tags_var=(f'{sp1} module ', f'{sp2} module '),\n",
    "    cut_ov=cut_ov,\n",
    "    norm_mtd_ov=norm_ov,\n",
    ")\n"
   ]
  },
  {
   "cell_type": "code",
   "execution_count": null,
   "id": "73d24ab4",
   "metadata": {},
   "outputs": [],
   "source": [
    "''' visualization '''\n",
    "fp_abs = figdir / f'abstracted_graph-{groupby_var}-cut{cut_ov}-{norm_ov}.pdf'\n",
    "ax = pl.plot_multipartite_graph(\n",
    "    g, edge_scale=10,\n",
    "    figsize=(9, 7.5), alpha=0.5, fp=fp_abs)  # nodelist=nodelist,\n",
    "\n",
    "ax.figure"
   ]
  },
  {
   "cell_type": "code",
   "execution_count": null,
   "id": "f95539f3",
   "metadata": {},
   "outputs": [],
   "source": [
    "# save abstracted-graph object\n",
    "came.save_pickle(g, resdir / 'abs_graph.pickle')"
   ]
  },
  {
   "cell_type": "code",
   "execution_count": null,
   "id": "1ac81135",
   "metadata": {},
   "outputs": [],
   "source": []
  },
  {
   "cell_type": "code",
   "execution_count": null,
   "id": "7e604daa",
   "metadata": {},
   "outputs": [],
   "source": []
  }
 ],
 "metadata": {
  "kernelspec": {
   "display_name": "Python 3 (ipykernel)",
   "language": "python",
   "name": "python3"
  },
  "language_info": {
   "codemirror_mode": {
    "name": "ipython",
    "version": 3
   },
   "file_extension": ".py",
   "mimetype": "text/x-python",
   "name": "python",
   "nbconvert_exporter": "python",
   "pygments_lexer": "ipython3",
   "version": "3.8.11"
  }
 },
 "nbformat": 4,
 "nbformat_minor": 5
}
